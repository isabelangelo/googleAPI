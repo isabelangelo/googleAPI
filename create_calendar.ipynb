{
 "cells": [
  {
   "cell_type": "markdown",
   "metadata": {},
   "source": [
    "# Google Calendar API#\n",
    "To do:\n",
    "1. Make it merge any adjacent events\n",
    "^For some reason it can't even read in anything besides the first event from the calendar"
   ]
  },
  {
   "cell_type": "code",
   "execution_count": 1,
   "metadata": {
    "collapsed": false
   },
   "outputs": [],
   "source": [
    "run quickstart.py"
   ]
  },
  {
   "cell_type": "code",
   "execution_count": 2,
   "metadata": {
    "collapsed": false
   },
   "outputs": [],
   "source": [
    "from gbt_scraper import *\n",
    "import time"
   ]
  },
  {
   "cell_type": "code",
   "execution_count": 3,
   "metadata": {
    "collapsed": false
   },
   "outputs": [
    {
     "name": "stdout",
     "output_type": "stream",
     "text": [
      "isabelangelo@berkeley.edu\n",
      "BL_GBT\n",
      "GBT_test\n",
      "Contacts\n",
      "Holidays in United States\n"
     ]
    }
   ],
   "source": [
    "credentials = get_credentials()\n",
    "http = credentials.authorize(httplib2.Http())\n",
    "service = discovery.build('calendar', 'v3', http=http)\n",
    "\n",
    "page_token = None\n",
    "while True:\n",
    "  calendar_list = service.calendarList().list(pageToken=page_token).execute()\n",
    "  for calendar_list_entry in calendar_list['items']:\n",
    "    print calendar_list_entry['summary']\n",
    "  page_token = calendar_list.get('nextPageToken')\n",
    "  if not page_token:\n",
    "    break"
   ]
  },
  {
   "cell_type": "code",
   "execution_count": 4,
   "metadata": {
    "collapsed": false
   },
   "outputs": [
    {
     "data": {
      "text/plain": [
       "u'GBT_test'"
      ]
     },
     "execution_count": 4,
     "metadata": {},
     "output_type": "execute_result"
    }
   ],
   "source": [
    "cal = calendar_list['items'][2]\n",
    "cal['summary']"
   ]
  },
  {
   "cell_type": "code",
   "execution_count": 5,
   "metadata": {
    "collapsed": false
   },
   "outputs": [],
   "source": [
    "scraper = GBTScraper(date=time.strftime(\"%m/%d/%Y\"),days=10)\n",
    "#scraper = GBTScraper(date='09/10/2016',days=2)\n",
    "scraper.make()\n",
    "events = scraper.btlpSchedule"
   ]
  },
  {
   "cell_type": "code",
   "execution_count": 2,
   "metadata": {
    "collapsed": false
   },
   "outputs": [],
   "source": [
    "def add_event(e1, e2): \n",
    "    date_start = e1.start[:10]\n",
    "    time_start = e1.start[11:]+':00-07:00'\n",
    "    date_end = e2.end[:10]\n",
    "    time_end = e2.end[11:]+':00-07:00'\n",
    "    \n",
    "    event_start = date_start + 'T' + time_start\n",
    "    event_end = date_end + 'T' + time_end\n",
    "    \n",
    "    event = {\n",
    "      'summary': 'GBT Observing '+ e1.receivers +'band', #is it always the same receivers for \n",
    "      'location': '',#for consecutive sessions?\n",
    "      'description': '',\n",
    "      'start': {\n",
    "        'dateTime': event_start,\n",
    "        'timeZone': 'America/Los_Angeles',\n",
    "      },\n",
    "      'end': {\n",
    "        'dateTime': event_end,\n",
    "        'timeZone': 'America/Los_Angeles',\n",
    "      },\n",
    "      'recurrence': [\n",
    "        'RRULE:FREQ=DAILY;COUNT=1'\n",
    "      ],\n",
    "      'attendees': [\n",
    "        {'email': 'isabelangelo@berkeley.edu'},\n",
    "        {'email': 'isabelangelo100@gmail.com'},\n",
    "      ],\n",
    "      'reminders': {\n",
    "        'useDefault': False,\n",
    "        'overrides': [\n",
    "          {'method': 'email', 'minutes': 24 * 60},\n",
    "          {'method': 'popup', 'minutes': 10},\n",
    "        ],\n",
    "      },\n",
    "    }\n",
    "\n",
    "    event = service.events().insert(calendarId=cal['id'], body=event).execute()\n",
    "    print 'Event created: %s' % (event.get('htmlLink'))"
   ]
  },
  {
   "cell_type": "code",
   "execution_count": 33,
   "metadata": {
    "collapsed": false
   },
   "outputs": [],
   "source": [
    "def get_events(eventlist = []): #this command misses the first event for some reason\n",
    "    now = datetime.datetime.utcnow() # 'Z' indicates UTC time\n",
    "    then= datetime.datetime.utcnow()-datetime.timedelta(7)\n",
    "    t = then.isoformat() + 'Z'\n",
    "    eventsResult = service.events().list(\n",
    "        calendarId=cal['id'], timeMin=t, maxResults=100, singleEvents=True,\n",
    "        orderBy='startTime').execute()\n",
    "    events = eventsResult.get('items', [])\n",
    "\n",
    "    if not events:\n",
    "        print('No upcoming events found.')\n",
    "    for event in events:\n",
    "        start = event['start'].get('dateTime', event['start'].get('date'))\n",
    "        eventlist.append(start)"
   ]
  },
  {
   "cell_type": "code",
   "execution_count": 10,
   "metadata": {
    "collapsed": true
   },
   "outputs": [],
   "source": [
    "def start_time(event):\n",
    "    return event.start[:10]+'T'+event.start[11:]+':00-07:00'\n",
    "def end_time(event):\n",
    "    return event.end[:10]+'T'+event.end[11:]+':00-07:00'"
   ]
  },
  {
   "cell_type": "code",
   "execution_count": 59,
   "metadata": {
    "collapsed": false
   },
   "outputs": [],
   "source": [
    "def check_if_exists(event):\n",
    "    if str(start_time(event)) in eventlist:\n",
    "        return True\n",
    "    else:\n",
    "        return False"
   ]
  },
  {
   "cell_type": "code",
   "execution_count": 60,
   "metadata": {
    "collapsed": false
   },
   "outputs": [
    {
     "data": {
      "text/plain": [
       "[u'2016-09-22T19:15:00-07:00',\n",
       " u'2016-09-22T22:15:00-07:00',\n",
       " u'2016-09-24T01:00:00-07:00',\n",
       " u'2016-09-24T04:15:00-07:00',\n",
       " u'2016-09-27T19:00:00-07:00',\n",
       " u'2016-09-27T19:00:00-07:00',\n",
       " u'2016-09-28T16:15:00-07:00',\n",
       " u'2016-09-28T16:15:00-07:00',\n",
       " u'2016-09-29T06:45:00-07:00',\n",
       " u'2016-09-29T06:45:00-07:00',\n",
       " u'2016-09-30T00:45:00-07:00',\n",
       " u'2016-09-30T00:45:00-07:00',\n",
       " u'2016-09-30T18:45:00-07:00',\n",
       " u'2016-09-30T18:45:00-07:00']"
      ]
     },
     "execution_count": 60,
     "metadata": {},
     "output_type": "execute_result"
    }
   ],
   "source": [
    "eventlist = []\n",
    "get_events(eventlist)\n",
    "eventlist"
   ]
  },
  {
   "cell_type": "code",
   "execution_count": 61,
   "metadata": {
    "collapsed": false
   },
   "outputs": [
    {
     "name": "stdout",
     "output_type": "stream",
     "text": [
      "Event created: https://www.google.com/calendar/event?eid=bTBuMWkwMWY3YmxnY2RuZHNjdnM2bmpiOGNfMjAxNjA5MjhUMDIwMDAwWiBiZXJrZWxleS5lZHVfYmJyMHA1bWppbHZxamlxanFqMGh0OWw2dW9AZw\n",
      "added 1\n",
      "Event created: https://www.google.com/calendar/event?eid=YjQ0Zm5xMDNzZjZjdHZmZ291MGwxbmw4NjRfMjAxNjA5MjhUMjMxNTAwWiBiZXJrZWxleS5lZHVfYmJyMHA1bWppbHZxamlxanFqMGh0OWw2dW9AZw\n",
      "added 1\n",
      "Event created: https://www.google.com/calendar/event?eid=aTZraHBscnN1NzdzaTA3ZW00bTN1ODRjZXNfMjAxNjA5MjlUMTM0NTAwWiBiZXJrZWxleS5lZHVfYmJyMHA1bWppbHZxamlxanFqMGh0OWw2dW9AZw\n",
      "added 3\n",
      "Event created: https://www.google.com/calendar/event?eid=OWliYm03cGc5bGw2N2NsNjYzYmllamUyZ3NfMjAxNjA5MzBUMDc0NTAwWiBiZXJrZWxleS5lZHVfYmJyMHA1bWppbHZxamlxanFqMGh0OWw2dW9AZw\n",
      "added 3\n",
      "Event created: https://www.google.com/calendar/event?eid=NjFkYXY2MGhsbnBhMjA0bGExbjlyMW02aDBfMjAxNjEwMDFUMDE0NTAwWiBiZXJrZWxleS5lZHVfYmJyMHA1bWppbHZxamlxanFqMGh0OWw2dW9AZw\n",
      "added 3\n"
     ]
    }
   ],
   "source": [
    "if end_time(events[0]) in eventlist == False: #to account for it not working for first event\n",
    "    add_event(events[0])\n",
    "for i in range(len(events[1:])):\n",
    "    if check_if_exists(event) == False:\n",
    "        if i >= 1 and start_time(events[i]) == end_time(events[i-1]):\n",
    "            None\n",
    "        elif len(events) > i+1 and end_time(events[i]) != start_time(events[i+1]):\n",
    "            add_event(events[i], events[i])\n",
    "            print 'added 1'\n",
    "        elif len(events) > i+1 and (end_time(events[i]) == start_time(events[i+1])) :\n",
    "            if len(events) > i+2 and end_time(events[i+1]) == start_time(events[i+2]) :\n",
    "                add_event(events[i], events[i+2])\n",
    "                print 'added 2'\n",
    "            else:\n",
    "                add_event(events[i], events[i+1])\n",
    "                print 'added 3'\n",
    "#to make this universal, we can add a for loop that iterates over integers that go in place\n",
    "#of 1,2 in i=1 and i=2"
   ]
  },
  {
   "cell_type": "code",
   "execution_count": null,
   "metadata": {
    "collapsed": false
   },
   "outputs": [],
   "source": [
    "if end_time[i] = start_time[i+1]:\n",
    "    if end_time[i+1] = start_time[i+2]:\n",
    "       add joining 3\n",
    "    else:\n",
    "        add joining two\n",
    "if start_time[i] = end_time[i-1]:\n",
    "    do nothing to avoid duplicates\n",
    "else:\n",
    "    just add the event\n",
    "#this only works if there are two consecutive events"
   ]
  },
  {
   "cell_type": "code",
   "execution_count": null,
   "metadata": {
    "collapsed": false
   },
   "outputs": [],
   "source": []
  },
  {
   "cell_type": "code",
   "execution_count": null,
   "metadata": {
    "collapsed": false
   },
   "outputs": [],
   "source": []
  },
  {
   "cell_type": "code",
   "execution_count": null,
   "metadata": {
    "collapsed": false
   },
   "outputs": [],
   "source": []
  },
  {
   "cell_type": "code",
   "execution_count": null,
   "metadata": {
    "collapsed": false
   },
   "outputs": [],
   "source": []
  },
  {
   "cell_type": "code",
   "execution_count": null,
   "metadata": {
    "collapsed": true
   },
   "outputs": [],
   "source": []
  }
 ],
 "metadata": {
  "kernelspec": {
   "display_name": "Python 2",
   "language": "python",
   "name": "python2"
  },
  "language_info": {
   "codemirror_mode": {
    "name": "ipython",
    "version": 2
   },
   "file_extension": ".py",
   "mimetype": "text/x-python",
   "name": "python",
   "nbconvert_exporter": "python",
   "pygments_lexer": "ipython2",
   "version": "2.7.12"
  }
 },
 "nbformat": 4,
 "nbformat_minor": 0
}
