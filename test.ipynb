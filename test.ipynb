{
 "cells": [
  {
   "cell_type": "markdown",
   "metadata": {},
   "source": [
    "Things to do once I get access:\n",
    "1. run command to pull from GBT website\n",
    "2. extract relevant information from website (put frequency and recievers in description, possible color coordinate accordingly?)\n",
    "3. write a function that takes in an observation and turns it into an event format\n",
    "4. make into event\n",
    "\n",
    "*once this is done: \n",
    "make it so that it runs hourly (cron job), send a slack notification when there's a new observation, get it to send emails if there is no one on it a certain time before "
   ]
  },
  {
   "cell_type": "code",
   "execution_count": 1,
   "metadata": {
    "collapsed": false
   },
   "outputs": [],
   "source": [
    "import calendar"
   ]
  },
  {
   "cell_type": "code",
   "execution_count": 2,
   "metadata": {
    "collapsed": false
   },
   "outputs": [],
   "source": [
    "run quickstart.py"
   ]
  },
  {
   "cell_type": "code",
   "execution_count": 3,
   "metadata": {
    "collapsed": false
   },
   "outputs": [],
   "source": [
    "credentials = get_credentials()\n",
    "http = credentials.authorize(httplib2.Http())\n",
    "service = discovery.build('calendar', 'v3', http=http)"
   ]
  },
  {
   "cell_type": "code",
   "execution_count": 4,
   "metadata": {
    "collapsed": false
   },
   "outputs": [
    {
     "name": "stdout",
     "output_type": "stream",
     "text": [
      "isabelangelo@berkeley.edu\n",
      "BL_GBT\n",
      "GBT Observing- Breakthrough Listen\n",
      "Contacts\n",
      "Holidays in United States\n"
     ]
    }
   ],
   "source": [
    "page_token = None\n",
    "while True:\n",
    "  calendar_list = service.calendarList().list(pageToken=page_token).execute()\n",
    "  for calendar_list_entry in calendar_list['items']:\n",
    "    print calendar_list_entry['summary']\n",
    "  page_token = calendar_list.get('nextPageToken')\n",
    "  if not page_token:\n",
    "    break"
   ]
  },
  {
   "cell_type": "code",
   "execution_count": 19,
   "metadata": {
    "collapsed": false
   },
   "outputs": [
    {
     "name": "stdout",
     "output_type": "stream",
     "text": [
      "isabelangelo@berkeley.edu\n",
      "BL_GBT\n",
      "GBT Observing- Breakthrough Listen\n",
      "Contacts\n",
      "Holidays in United States\n"
     ]
    }
   ],
   "source": [
    "service.calendarList().list(pageToken=page_token).execute()\n",
    "for calendar_list_entry in calendar_list['items']:\n",
    "    print calendar_list_entry['summary']"
   ]
  },
  {
   "cell_type": "code",
   "execution_count": 20,
   "metadata": {
    "collapsed": false
   },
   "outputs": [
    {
     "data": {
      "text/plain": [
       "u'GBT Observing- Breakthrough Listen'"
      ]
     },
     "execution_count": 20,
     "metadata": {},
     "output_type": "execute_result"
    }
   ],
   "source": [
    "calendar_list['items'][2]['summary']"
   ]
  },
  {
   "cell_type": "code",
   "execution_count": 21,
   "metadata": {
    "collapsed": true
   },
   "outputs": [],
   "source": [
    "testcal = calendar_list['items'][2]"
   ]
  },
  {
   "cell_type": "code",
   "execution_count": 22,
   "metadata": {
    "collapsed": false
   },
   "outputs": [
    {
     "name": "stdout",
     "output_type": "stream",
     "text": [
      "kind : calendar#calendarListEntry\n",
      "foregroundColor : #000000\n",
      "defaultReminders : []\n",
      "colorId : 9\n",
      "selected : True\n",
      "summary : GBT Observing- Breakthrough Listen\n",
      "etag : \"1473914024780000\"\n",
      "backgroundColor : #7bd148\n",
      "timeZone : America/Los_Angeles\n",
      "accessRole : owner\n",
      "id : berkeley.edu_bbr0p5mjilvqjiqjqj0ht9l6uo@group.calendar.google.com\n"
     ]
    }
   ],
   "source": [
    "for item in testcal:\n",
    "    print item, ':' , testcal[str(item)]"
   ]
  },
  {
   "cell_type": "code",
   "execution_count": 23,
   "metadata": {
    "collapsed": false
   },
   "outputs": [],
   "source": [
    "cal = service.calendars().get(calendarId='berkeley.edu_bbr0p5mjilvqjiqjqj0ht9l6uo@group.calendar.google.com').execute()"
   ]
  },
  {
   "cell_type": "code",
   "execution_count": 24,
   "metadata": {
    "collapsed": false
   },
   "outputs": [
    {
     "name": "stdout",
     "output_type": "stream",
     "text": [
      "timeZone : America/Los_Angeles\n",
      "kind : calendar#calendar\n",
      "etag : \"1T_WpMGh9LVoIphNJdV8Qefxl1k/pD302p1YEwofLAscHgjYZJudO-s\"\n",
      "id : berkeley.edu_bbr0p5mjilvqjiqjqj0ht9l6uo@group.calendar.google.com\n",
      "summary : GBT Observing- Breakthrough Listen\n"
     ]
    }
   ],
   "source": [
    "for item in cal:\n",
    "    print item, ':', cal[str(item)]"
   ]
  },
  {
   "cell_type": "code",
   "execution_count": 25,
   "metadata": {
    "collapsed": false
   },
   "outputs": [],
   "source": [
    "calendar_list_entry = service.calendarList().get(calendarId=cal['id']).execute()"
   ]
  },
  {
   "cell_type": "code",
   "execution_count": 26,
   "metadata": {
    "collapsed": false
   },
   "outputs": [
    {
     "data": {
      "text/plain": [
       "{u'accessRole': u'owner',\n",
       " u'backgroundColor': u'#7bd148',\n",
       " u'colorId': u'9',\n",
       " u'defaultReminders': [],\n",
       " u'etag': u'\"1473914024780000\"',\n",
       " u'foregroundColor': u'#000000',\n",
       " u'id': u'berkeley.edu_bbr0p5mjilvqjiqjqj0ht9l6uo@group.calendar.google.com',\n",
       " u'kind': u'calendar#calendarListEntry',\n",
       " u'selected': True,\n",
       " u'summary': u'GBT Observing- Breakthrough Listen',\n",
       " u'timeZone': u'America/Los_Angeles'}"
      ]
     },
     "execution_count": 26,
     "metadata": {},
     "output_type": "execute_result"
    }
   ],
   "source": [
    "calendar_list_entry"
   ]
  },
  {
   "cell_type": "code",
   "execution_count": 27,
   "metadata": {
    "collapsed": false
   },
   "outputs": [
    {
     "name": "stdout",
     "output_type": "stream",
     "text": [
      "Event created: https://www.google.com/calendar/event?eid=YTBzNnU2ODk5cWRyNGxzbTMzb2NyMmozOWdfMjAxNTA1MjhUMTYwMDAwWiBpc2FiZWxhbmdlbG9AYmVya2VsZXkuZWR1\n"
     ]
    }
   ],
   "source": [
    "event = {\n",
    "  'summary': 'Google I/O 2015',\n",
    "  'location': '800 Howard St., San Francisco, CA 94103',\n",
    "  'description': 'A chance to hear more about Google\\'s developer products.',\n",
    "  'start': {\n",
    "    'dateTime': '2015-05-28T09:00:00-07:00',\n",
    "    'timeZone': 'America/Los_Angeles',\n",
    "  },\n",
    "  'end': {\n",
    "    'dateTime': '2015-05-28T17:00:00-07:00',\n",
    "    'timeZone': 'America/Los_Angeles',\n",
    "  },\n",
    "  'recurrence': [\n",
    "    'RRULE:FREQ=DAILY;COUNT=2'\n",
    "  ],\n",
    "  'attendees': [\n",
    "    {'email': 'lpage@example.com'},\n",
    "    {'email': 'sbrin@example.com'},\n",
    "  ],\n",
    "  'reminders': {\n",
    "    'useDefault': False,\n",
    "    'overrides': [\n",
    "      {'method': 'email', 'minutes': 24 * 60},\n",
    "      {'method': 'popup', 'minutes': 10},\n",
    "    ],\n",
    "  },\n",
    "}\n",
    "\n",
    "event = service.events().insert(calendarId='primary', body=event).execute()\n",
    "print 'Event created: %s' % (event.get('htmlLink'))"
   ]
  },
  {
   "cell_type": "code",
   "execution_count": 28,
   "metadata": {
    "collapsed": false
   },
   "outputs": [
    {
     "ename": "SyntaxError",
     "evalue": "invalid syntax (<ipython-input-28-74842d85234b>, line 1)",
     "output_type": "error",
     "traceback": [
      "\u001b[0;36m  File \u001b[0;32m\"<ipython-input-28-74842d85234b>\"\u001b[0;36m, line \u001b[0;32m1\u001b[0m\n\u001b[0;31m    wget -qO- https://dss.gb.nrao.edu/schedule/public\u001b[0m\n\u001b[0m                   ^\u001b[0m\n\u001b[0;31mSyntaxError\u001b[0m\u001b[0;31m:\u001b[0m invalid syntax\n"
     ]
    }
   ],
   "source": [
    "wget -qO- https://dss.gb.nrao.edu/schedule/public"
   ]
  },
  {
   "cell_type": "code",
   "execution_count": null,
   "metadata": {
    "collapsed": true
   },
   "outputs": [],
   "source": []
  }
 ],
 "metadata": {
  "kernelspec": {
   "display_name": "Python 2",
   "language": "python",
   "name": "python2"
  },
  "language_info": {
   "codemirror_mode": {
    "name": "ipython",
    "version": 2
   },
   "file_extension": ".py",
   "mimetype": "text/x-python",
   "name": "python",
   "nbconvert_exporter": "python",
   "pygments_lexer": "ipython2",
   "version": "2.7.12"
  }
 },
 "nbformat": 4,
 "nbformat_minor": 0
}
