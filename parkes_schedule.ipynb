{
 "cells": [
  {
   "cell_type": "code",
   "execution_count": 39,
   "metadata": {
    "collapsed": true
   },
   "outputs": [],
   "source": [
    "import time\n",
    "import copy"
   ]
  },
  {
   "cell_type": "code",
   "execution_count": 3,
   "metadata": {
    "collapsed": false
   },
   "outputs": [],
   "source": [
    "start_times = []\n",
    "with open('parkes_schedule_utc.txt') as f:\n",
    "    start_times = f.readlines()"
   ]
  },
  {
   "cell_type": "code",
   "execution_count": 16,
   "metadata": {
    "collapsed": false
   },
   "outputs": [
    {
     "data": {
      "text/plain": [
       "'Nov 04 04:00 UTC\\n'"
      ]
     },
     "execution_count": 16,
     "metadata": {},
     "output_type": "execute_result"
    }
   ],
   "source": [
    "start_times[0]"
   ]
  },
  {
   "cell_type": "markdown",
   "metadata": {},
   "source": [
    "required format: 2015-05-28T09:00:00-07:00"
   ]
  },
  {
   "cell_type": "code",
   "execution_count": 12,
   "metadata": {
    "collapsed": false
   },
   "outputs": [
    {
     "data": {
      "text/plain": [
       "'2016-11-04T04:00:00'"
      ]
     },
     "execution_count": 12,
     "metadata": {},
     "output_type": "execute_result"
    }
   ],
   "source": [
    "'2016-11-'+start_times[0][4:6]+ 'T' + start_times[0][7:12]+':00'"
   ]
  },
  {
   "cell_type": "code",
   "execution_count": 19,
   "metadata": {
    "collapsed": true
   },
   "outputs": [],
   "source": [
    "months = {'Jan': '01', 'Feb': '02', 'Mar': '03', 'Nov': '11', 'Dec': '12'}"
   ]
  },
  {
   "cell_type": "code",
   "execution_count": 21,
   "metadata": {
    "collapsed": false
   },
   "outputs": [],
   "source": [
    "years = {'Jan': '2017', 'Feb': '2017', 'Mar': '2017',\n",
    "         'Nov': '2016', 'Dec': '2016'}"
   ]
  },
  {
   "cell_type": "code",
   "execution_count": 89,
   "metadata": {
    "collapsed": true
   },
   "outputs": [],
   "source": [
    "end_times = {'01': '05', '02': '06', '00': '04',\n",
    "             '03': '07','04': '08','05': '09',\n",
    "             '06': '10','07': '11','08': '12',\n",
    "             '09': '13','10': '14','11': '15',\n",
    "             '12': '16','13': '17','14': '18',\n",
    "             '15': '19','16': '20','17': '21',\n",
    "             '18': '22','19': '23','20': '24',\n",
    "             '21': '00','22': '01','23': '02','24': '03'}"
   ]
  },
  {
   "cell_type": "code",
   "execution_count": 37,
   "metadata": {
    "collapsed": false
   },
   "outputs": [],
   "source": [
    "m = str(start_times[0][:3])\n",
    "day = str(start_times[0][4:6])\n",
    "time = str(start_times[0][7:12])"
   ]
  },
  {
   "cell_type": "code",
   "execution_count": 38,
   "metadata": {
    "collapsed": false
   },
   "outputs": [
    {
     "data": {
      "text/plain": [
       "'2016-11-04T04:00:00'"
      ]
     },
     "execution_count": 38,
     "metadata": {},
     "output_type": "execute_result"
    }
   ],
   "source": [
    "years[m]+'-'+months[m]+'-'+day+'T' + str(time) +':00'"
   ]
  },
  {
   "cell_type": "code",
   "execution_count": 102,
   "metadata": {
    "collapsed": false
   },
   "outputs": [
    {
     "name": "stdout",
     "output_type": "stream",
     "text": [
      "calendar name: isabelangelo@berkeley.edu\n",
      "calendar name: BL_Obs\n",
      "credentials successful, calendar retrieved\n"
     ]
    }
   ],
   "source": [
    "#get credentials and calendar list from Google Calendar\n",
    "%run quickstart.py\n",
    "credentials = get_credentials()\n",
    "http = credentials.authorize(httplib2.Http())\n",
    "service = discovery.build('calendar', 'v3', http=http)\n",
    "page_token = None\n",
    "BL_CAL = 'BL_Obs'  #Choose to update calendar with this name\n",
    "while True:\n",
    "  calendar_list = service.calendarList().list(pageToken=page_token).execute()\n",
    "  for calendar_list_entry in calendar_list['items']: #hti\n",
    "    print 'calendar name:',calendar_list_entry['summary'] #hti\n",
    "    if calendar_list_entry['summary'] == BL_CAL:\n",
    "      cal = calendar_list_entry# ['items']\n",
    "      print 'credentials successful, calendar retrieved'\n",
    "      break\n",
    "  page_token = calendar_list.get('nextPageToken')\n",
    "  if not page_token:\n",
    "    break"
   ]
  },
  {
   "cell_type": "code",
   "execution_count": 88,
   "metadata": {
    "collapsed": false
   },
   "outputs": [
    {
     "data": {
      "text/plain": [
       "'Nov 08 00:30 UTC\\n'"
      ]
     },
     "execution_count": 88,
     "metadata": {},
     "output_type": "execute_result"
    }
   ],
   "source": [
    "def times(event):\n",
    "    m = str(event[:3])\n",
    "    day = str(event[4:6])\n",
    "    time = str(event[7:12])\n",
    "    start = years[m]+'-'+months[m]+'-'+day+'T' + str(time) +':00'\n",
    "    end = years[m]+'-'+months[m]+'-'+day+'T' + end_times[str(time[0:2])] + str(time)[2:5] +':00'\n",
    "    return start, end\n"
   ]
  },
  {
   "cell_type": "code",
   "execution_count": 117,
   "metadata": {
    "collapsed": false
   },
   "outputs": [],
   "source": [
    "def add_event(event): \n",
    "# adds event to google calendar\n",
    "    \n",
    "    event_start, event_end = times(event)\n",
    "    \n",
    "    event = {\n",
    "      'summary': 'Parkes Observing ',\n",
    "      'location': '',\n",
    "      'description': '',\n",
    "      'start': {\n",
    "        'dateTime': event_start,\n",
    "        'timeZone': 'Etc/UTC',\n",
    "      },\n",
    "      'end': {\n",
    "        'dateTime': event_end,\n",
    "        'timeZone': 'Etc/UTC',\n",
    "      },\n",
    "      'recurrence': [\n",
    "        'RRULE:FREQ=DAILY;COUNT=1'\n",
    "      ],\n",
    "    }\n",
    "\n",
    "    event = service.events().insert(calendarId=cal['id'], body=event).execute()\n",
    "    print 'Event created #: %s'# % (event.get('htmlLink'))\n",
    "    print 'begin: ',event_start\n",
    "    print 'end:   ',event_end "
   ]
  },
  {
   "cell_type": "code",
   "execution_count": 145,
   "metadata": {
    "collapsed": false
   },
   "outputs": [],
   "source": [
    "#22, 33, 35, 36, 40, 45, 55, 62, 67, 69, 79, 82, 83"
   ]
  },
  {
   "cell_type": "code",
   "execution_count": 161,
   "metadata": {
    "collapsed": false
   },
   "outputs": [
    {
     "data": {
      "text/plain": [
       "'Mar 30 17:00 UTC\\n'"
      ]
     },
     "execution_count": 161,
     "metadata": {},
     "output_type": "execute_result"
    }
   ],
   "source": [
    "start_times[81]"
   ]
  },
  {
   "cell_type": "code",
   "execution_count": 118,
   "metadata": {
    "collapsed": false
   },
   "outputs": [
    {
     "name": "stdout",
     "output_type": "stream",
     "text": [
      "0\n",
      "Event created #: %s\n",
      "begin:  2016-11-04T04:00:00\n",
      "end:    2016-11-04T08:00:00\n",
      "1\n",
      "Event created #: %s\n",
      "begin:  2016-11-05T08:00:00\n",
      "end:    2016-11-05T12:00:00\n",
      "2\n",
      "Event created #: %s\n",
      "begin:  2016-11-06T17:00:00\n",
      "end:    2016-11-06T21:00:00\n",
      "3\n",
      "Event created #: %s\n",
      "begin:  2016-11-08T00:30:00\n",
      "end:    2016-11-08T04:30:00\n",
      "4\n",
      "Event created #: %s\n",
      "begin:  2016-11-09T08:00:00\n",
      "end:    2016-11-09T12:00:00\n",
      "5\n",
      "Event created #: %s\n",
      "begin:  2016-11-10T12:00:00\n",
      "end:    2016-11-10T16:00:00\n",
      "6\n",
      "Event created #: %s\n",
      "begin:  2016-11-11T10:00:00\n",
      "end:    2016-11-11T14:00:00\n",
      "7\n",
      "Event created #: %s\n",
      "begin:  2016-11-12T09:00:00\n",
      "end:    2016-11-12T13:00:00\n",
      "8\n",
      "Event created #: %s\n",
      "begin:  2016-11-14T15:30:00\n",
      "end:    2016-11-14T19:30:00\n",
      "9\n",
      "Event created #: %s\n",
      "begin:  2016-11-16T17:00:00\n",
      "end:    2016-11-16T21:00:00\n",
      "10\n",
      "Event created #: %s\n",
      "begin:  2016-11-18T03:30:00\n",
      "end:    2016-11-18T07:30:00\n",
      "11\n",
      "Event created #: %s\n",
      "begin:  2016-11-19T07:30:00\n",
      "end:    2016-11-19T11:30:00\n",
      "12\n",
      "Event created #: %s\n",
      "begin:  2016-11-20T14:00:00\n",
      "end:    2016-11-20T18:00:00\n",
      "13\n",
      "Event created #: %s\n",
      "begin:  2016-12-08T05:00:00\n",
      "end:    2016-12-08T09:00:00\n",
      "14\n",
      "Event created #: %s\n",
      "begin:  2016-12-09T08:00:00\n",
      "end:    2016-12-09T12:00:00\n",
      "15\n",
      "Event created #: %s\n",
      "begin:  2016-12-10T05:30:00\n",
      "end:    2016-12-10T09:30:00\n",
      "16\n",
      "Event created #: %s\n",
      "begin:  2016-12-11T08:00:00\n",
      "end:    2016-12-11T12:00:00\n",
      "17\n",
      "Event created #: %s\n",
      "begin:  2016-12-12T15:00:00\n",
      "end:    2016-12-12T19:00:00\n",
      "18\n",
      "Event created #: %s\n",
      "begin:  2016-12-14T05:00:00\n",
      "end:    2016-12-14T09:00:00\n",
      "19\n",
      "Event created #: %s\n",
      "begin:  2016-12-15T19:30:00\n",
      "end:    2016-12-15T23:30:00\n",
      "20\n",
      "Event created #: %s\n",
      "begin:  2016-12-16T19:30:00\n",
      "end:    2016-12-16T23:30:00\n",
      "21\n",
      "Event created #: %s\n",
      "begin:  2016-12-18T15:00:00\n",
      "end:    2016-12-18T19:00:00\n",
      "22\n"
     ]
    },
    {
     "ename": "HttpError",
     "evalue": "<HttpError 400 when requesting https://www.googleapis.com/calendar/v3/calendars/berkeley.edu_1t3v9q2m429n4uho4ppib9qio4%40group.calendar.google.com/events?alt=json returned \"The specified time range is empty.\">",
     "output_type": "error",
     "traceback": [
      "\u001b[0;31m---------------------------------------------------------------------------\u001b[0m",
      "\u001b[0;31mHttpError\u001b[0m                                 Traceback (most recent call last)",
      "\u001b[0;32m<ipython-input-118-40009ca4bcb2>\u001b[0m in \u001b[0;36m<module>\u001b[0;34m()\u001b[0m\n\u001b[1;32m      1\u001b[0m \u001b[0;32mfor\u001b[0m \u001b[0mi\u001b[0m \u001b[0;32min\u001b[0m \u001b[0mrange\u001b[0m\u001b[0;34m(\u001b[0m\u001b[0mlen\u001b[0m\u001b[0;34m(\u001b[0m\u001b[0mstart_times\u001b[0m\u001b[0;34m)\u001b[0m\u001b[0;34m)\u001b[0m\u001b[0;34m:\u001b[0m\u001b[0;34m\u001b[0m\u001b[0m\n\u001b[1;32m      2\u001b[0m     \u001b[0;32mprint\u001b[0m \u001b[0mi\u001b[0m\u001b[0;34m\u001b[0m\u001b[0m\n\u001b[0;32m----> 3\u001b[0;31m     \u001b[0madd_event\u001b[0m\u001b[0;34m(\u001b[0m\u001b[0mstart_times\u001b[0m\u001b[0;34m[\u001b[0m\u001b[0mi\u001b[0m\u001b[0;34m]\u001b[0m\u001b[0;34m)\u001b[0m\u001b[0;34m\u001b[0m\u001b[0m\n\u001b[0m",
      "\u001b[0;32m<ipython-input-117-40b3bef677bc>\u001b[0m in \u001b[0;36madd_event\u001b[0;34m(event)\u001b[0m\n\u001b[1;32m     21\u001b[0m     }\n\u001b[1;32m     22\u001b[0m \u001b[0;34m\u001b[0m\u001b[0m\n\u001b[0;32m---> 23\u001b[0;31m     \u001b[0mevent\u001b[0m \u001b[0;34m=\u001b[0m \u001b[0mservice\u001b[0m\u001b[0;34m.\u001b[0m\u001b[0mevents\u001b[0m\u001b[0;34m(\u001b[0m\u001b[0;34m)\u001b[0m\u001b[0;34m.\u001b[0m\u001b[0minsert\u001b[0m\u001b[0;34m(\u001b[0m\u001b[0mcalendarId\u001b[0m\u001b[0;34m=\u001b[0m\u001b[0mcal\u001b[0m\u001b[0;34m[\u001b[0m\u001b[0;34m'id'\u001b[0m\u001b[0;34m]\u001b[0m\u001b[0;34m,\u001b[0m \u001b[0mbody\u001b[0m\u001b[0;34m=\u001b[0m\u001b[0mevent\u001b[0m\u001b[0;34m)\u001b[0m\u001b[0;34m.\u001b[0m\u001b[0mexecute\u001b[0m\u001b[0;34m(\u001b[0m\u001b[0;34m)\u001b[0m\u001b[0;34m\u001b[0m\u001b[0m\n\u001b[0m\u001b[1;32m     24\u001b[0m     \u001b[0;32mprint\u001b[0m \u001b[0;34m'Event created #: %s'\u001b[0m\u001b[0;31m# % (event.get('htmlLink'))\u001b[0m\u001b[0;34m\u001b[0m\u001b[0m\n\u001b[1;32m     25\u001b[0m     \u001b[0;32mprint\u001b[0m \u001b[0;34m'begin: '\u001b[0m\u001b[0;34m,\u001b[0m\u001b[0mevent_start\u001b[0m\u001b[0;34m\u001b[0m\u001b[0m\n",
      "\u001b[0;32m/Users/isabelangelo/Library/Enthought/Canopy_64bit/User/lib/python2.7/site-packages/oauth2client/util.pyc\u001b[0m in \u001b[0;36mpositional_wrapper\u001b[0;34m(*args, **kwargs)\u001b[0m\n\u001b[1;32m    135\u001b[0m                 \u001b[0;32melif\u001b[0m \u001b[0mpositional_parameters_enforcement\u001b[0m \u001b[0;34m==\u001b[0m \u001b[0mPOSITIONAL_WARNING\u001b[0m\u001b[0;34m:\u001b[0m\u001b[0;34m\u001b[0m\u001b[0m\n\u001b[1;32m    136\u001b[0m                     \u001b[0mlogger\u001b[0m\u001b[0;34m.\u001b[0m\u001b[0mwarning\u001b[0m\u001b[0;34m(\u001b[0m\u001b[0mmessage\u001b[0m\u001b[0;34m)\u001b[0m\u001b[0;34m\u001b[0m\u001b[0m\n\u001b[0;32m--> 137\u001b[0;31m             \u001b[0;32mreturn\u001b[0m \u001b[0mwrapped\u001b[0m\u001b[0;34m(\u001b[0m\u001b[0;34m*\u001b[0m\u001b[0margs\u001b[0m\u001b[0;34m,\u001b[0m \u001b[0;34m**\u001b[0m\u001b[0mkwargs\u001b[0m\u001b[0;34m)\u001b[0m\u001b[0;34m\u001b[0m\u001b[0m\n\u001b[0m\u001b[1;32m    138\u001b[0m         \u001b[0;32mreturn\u001b[0m \u001b[0mpositional_wrapper\u001b[0m\u001b[0;34m\u001b[0m\u001b[0m\n\u001b[1;32m    139\u001b[0m \u001b[0;34m\u001b[0m\u001b[0m\n",
      "\u001b[0;32m/Users/isabelangelo/Library/Enthought/Canopy_64bit/User/lib/python2.7/site-packages/googleapiclient/http.pyc\u001b[0m in \u001b[0;36mexecute\u001b[0;34m(self, http, num_retries)\u001b[0m\n\u001b[1;32m    836\u001b[0m       \u001b[0mcallback\u001b[0m\u001b[0;34m(\u001b[0m\u001b[0mresp\u001b[0m\u001b[0;34m)\u001b[0m\u001b[0;34m\u001b[0m\u001b[0m\n\u001b[1;32m    837\u001b[0m     \u001b[0;32mif\u001b[0m \u001b[0mresp\u001b[0m\u001b[0;34m.\u001b[0m\u001b[0mstatus\u001b[0m \u001b[0;34m>=\u001b[0m \u001b[0;36m300\u001b[0m\u001b[0;34m:\u001b[0m\u001b[0;34m\u001b[0m\u001b[0m\n\u001b[0;32m--> 838\u001b[0;31m       \u001b[0;32mraise\u001b[0m \u001b[0mHttpError\u001b[0m\u001b[0;34m(\u001b[0m\u001b[0mresp\u001b[0m\u001b[0;34m,\u001b[0m \u001b[0mcontent\u001b[0m\u001b[0;34m,\u001b[0m \u001b[0muri\u001b[0m\u001b[0;34m=\u001b[0m\u001b[0mself\u001b[0m\u001b[0;34m.\u001b[0m\u001b[0muri\u001b[0m\u001b[0;34m)\u001b[0m\u001b[0;34m\u001b[0m\u001b[0m\n\u001b[0m\u001b[1;32m    839\u001b[0m     \u001b[0;32mreturn\u001b[0m \u001b[0mself\u001b[0m\u001b[0;34m.\u001b[0m\u001b[0mpostproc\u001b[0m\u001b[0;34m(\u001b[0m\u001b[0mresp\u001b[0m\u001b[0;34m,\u001b[0m \u001b[0mcontent\u001b[0m\u001b[0;34m)\u001b[0m\u001b[0;34m\u001b[0m\u001b[0m\n\u001b[1;32m    840\u001b[0m \u001b[0;34m\u001b[0m\u001b[0m\n",
      "\u001b[0;31mHttpError\u001b[0m: <HttpError 400 when requesting https://www.googleapis.com/calendar/v3/calendars/berkeley.edu_1t3v9q2m429n4uho4ppib9qio4%40group.calendar.google.com/events?alt=json returned \"The specified time range is empty.\">"
     ]
    }
   ],
   "source": [
    "for i in range(len(start_times)):\n",
    "    print i\n",
    "    add_event(start_times[i])"
   ]
  },
  {
   "cell_type": "code",
   "execution_count": 144,
   "metadata": {
    "collapsed": false
   },
   "outputs": [],
   "source": [
    "for i in range(len(start_times[84:])):\n",
    "    print 84 + i\n",
    "    add_event(start_times[i+84])"
   ]
  },
  {
   "cell_type": "code",
   "execution_count": 106,
   "metadata": {
    "collapsed": false
   },
   "outputs": [
    {
     "name": "stdout",
     "output_type": "stream",
     "text": [
      "45\n",
      "Event created #: %s\n",
      "begin:  2016-11-04T04:00:00\n",
      "end:    2016-11-04T08:00:00\n",
      "46\n",
      "Event created #: %s\n",
      "begin:  2016-11-05T08:00:00\n",
      "end:    2016-11-05T12:00:00\n",
      "47\n",
      "Event created #: %s\n",
      "begin:  2016-11-06T17:00:00\n",
      "end:    2016-11-06T21:00:00\n",
      "48\n",
      "Event created #: %s\n",
      "begin:  2016-11-08T00:30:00\n",
      "end:    2016-11-08T04:30:00\n",
      "49\n",
      "Event created #: %s\n",
      "begin:  2016-11-09T08:00:00\n",
      "end:    2016-11-09T12:00:00\n",
      "50\n",
      "Event created #: %s\n",
      "begin:  2016-11-10T12:00:00\n",
      "end:    2016-11-10T16:00:00\n",
      "51\n",
      "Event created #: %s\n",
      "begin:  2016-11-11T10:00:00\n",
      "end:    2016-11-11T14:00:00\n",
      "52\n",
      "Event created #: %s\n",
      "begin:  2016-11-12T09:00:00\n",
      "end:    2016-11-12T13:00:00\n",
      "53\n",
      "Event created #: %s\n",
      "begin:  2016-11-14T15:30:00\n",
      "end:    2016-11-14T19:30:00\n",
      "54\n",
      "Event created #: %s\n",
      "begin:  2016-11-16T17:00:00\n",
      "end:    2016-11-16T21:00:00\n",
      "55\n",
      "Event created #: %s\n",
      "begin:  2016-11-18T03:30:00\n",
      "end:    2016-11-18T07:30:00\n",
      "56\n",
      "Event created #: %s\n",
      "begin:  2016-11-19T07:30:00\n",
      "end:    2016-11-19T11:30:00\n",
      "57\n",
      "Event created #: %s\n",
      "begin:  2016-11-20T14:00:00\n",
      "end:    2016-11-20T18:00:00\n",
      "58\n",
      "Event created #: %s\n",
      "begin:  2016-12-08T05:00:00\n",
      "end:    2016-12-08T09:00:00\n",
      "59\n",
      "Event created #: %s\n",
      "begin:  2016-12-09T08:00:00\n",
      "end:    2016-12-09T12:00:00\n",
      "60\n",
      "Event created #: %s\n",
      "begin:  2016-12-10T05:30:00\n",
      "end:    2016-12-10T09:30:00\n",
      "61\n",
      "Event created #: %s\n",
      "begin:  2016-12-11T08:00:00\n",
      "end:    2016-12-11T12:00:00\n",
      "62\n",
      "Event created #: %s\n",
      "begin:  2016-12-12T15:00:00\n",
      "end:    2016-12-12T19:00:00\n",
      "63\n",
      "Event created #: %s\n",
      "begin:  2016-12-14T05:00:00\n",
      "end:    2016-12-14T09:00:00\n",
      "64\n",
      "Event created #: %s\n",
      "begin:  2016-12-15T19:30:00\n",
      "end:    2016-12-15T23:30:00\n",
      "65\n",
      "Event created #: %s\n",
      "begin:  2016-12-16T19:30:00\n",
      "end:    2016-12-16T23:30:00\n",
      "66\n",
      "Event created #: %s\n",
      "begin:  2016-12-18T15:00:00\n",
      "end:    2016-12-18T19:00:00\n",
      "67\n"
     ]
    },
    {
     "ename": "HttpError",
     "evalue": "<HttpError 400 when requesting https://www.googleapis.com/calendar/v3/calendars/berkeley.edu_1t3v9q2m429n4uho4ppib9qio4%40group.calendar.google.com/events?alt=json returned \"The specified time range is empty.\">",
     "output_type": "error",
     "traceback": [
      "\u001b[0;31m---------------------------------------------------------------------------\u001b[0m",
      "\u001b[0;31mHttpError\u001b[0m                                 Traceback (most recent call last)",
      "\u001b[0;32m<ipython-input-106-3a1ccf910f81>\u001b[0m in \u001b[0;36m<module>\u001b[0;34m()\u001b[0m\n\u001b[1;32m      1\u001b[0m \u001b[0;32mfor\u001b[0m \u001b[0mi\u001b[0m \u001b[0;32min\u001b[0m \u001b[0mrange\u001b[0m\u001b[0;34m(\u001b[0m\u001b[0mlen\u001b[0m\u001b[0;34m(\u001b[0m\u001b[0mstart_times\u001b[0m\u001b[0;34m[\u001b[0m\u001b[0;36m45\u001b[0m\u001b[0;34m:\u001b[0m\u001b[0;34m]\u001b[0m\u001b[0;34m)\u001b[0m\u001b[0;34m)\u001b[0m\u001b[0;34m:\u001b[0m\u001b[0;34m\u001b[0m\u001b[0m\n\u001b[1;32m      2\u001b[0m     \u001b[0;32mprint\u001b[0m \u001b[0;36m45\u001b[0m \u001b[0;34m+\u001b[0m \u001b[0mi\u001b[0m\u001b[0;34m\u001b[0m\u001b[0m\n\u001b[0;32m----> 3\u001b[0;31m     \u001b[0madd_event\u001b[0m\u001b[0;34m(\u001b[0m\u001b[0mstart_times\u001b[0m\u001b[0;34m[\u001b[0m\u001b[0mi\u001b[0m\u001b[0;34m]\u001b[0m\u001b[0;34m)\u001b[0m\u001b[0;34m\u001b[0m\u001b[0m\n\u001b[0m",
      "\u001b[0;32m<ipython-input-83-40b3bef677bc>\u001b[0m in \u001b[0;36madd_event\u001b[0;34m(event)\u001b[0m\n\u001b[1;32m     21\u001b[0m     }\n\u001b[1;32m     22\u001b[0m \u001b[0;34m\u001b[0m\u001b[0m\n\u001b[0;32m---> 23\u001b[0;31m     \u001b[0mevent\u001b[0m \u001b[0;34m=\u001b[0m \u001b[0mservice\u001b[0m\u001b[0;34m.\u001b[0m\u001b[0mevents\u001b[0m\u001b[0;34m(\u001b[0m\u001b[0;34m)\u001b[0m\u001b[0;34m.\u001b[0m\u001b[0minsert\u001b[0m\u001b[0;34m(\u001b[0m\u001b[0mcalendarId\u001b[0m\u001b[0;34m=\u001b[0m\u001b[0mcal\u001b[0m\u001b[0;34m[\u001b[0m\u001b[0;34m'id'\u001b[0m\u001b[0;34m]\u001b[0m\u001b[0;34m,\u001b[0m \u001b[0mbody\u001b[0m\u001b[0;34m=\u001b[0m\u001b[0mevent\u001b[0m\u001b[0;34m)\u001b[0m\u001b[0;34m.\u001b[0m\u001b[0mexecute\u001b[0m\u001b[0;34m(\u001b[0m\u001b[0;34m)\u001b[0m\u001b[0;34m\u001b[0m\u001b[0m\n\u001b[0m\u001b[1;32m     24\u001b[0m     \u001b[0;32mprint\u001b[0m \u001b[0;34m'Event created #: %s'\u001b[0m\u001b[0;31m# % (event.get('htmlLink'))\u001b[0m\u001b[0;34m\u001b[0m\u001b[0m\n\u001b[1;32m     25\u001b[0m     \u001b[0;32mprint\u001b[0m \u001b[0;34m'begin: '\u001b[0m\u001b[0;34m,\u001b[0m\u001b[0mevent_start\u001b[0m\u001b[0;34m\u001b[0m\u001b[0m\n",
      "\u001b[0;32m/Users/isabelangelo/Library/Enthought/Canopy_64bit/User/lib/python2.7/site-packages/oauth2client/util.pyc\u001b[0m in \u001b[0;36mpositional_wrapper\u001b[0;34m(*args, **kwargs)\u001b[0m\n\u001b[1;32m    135\u001b[0m                 \u001b[0;32melif\u001b[0m \u001b[0mpositional_parameters_enforcement\u001b[0m \u001b[0;34m==\u001b[0m \u001b[0mPOSITIONAL_WARNING\u001b[0m\u001b[0;34m:\u001b[0m\u001b[0;34m\u001b[0m\u001b[0m\n\u001b[1;32m    136\u001b[0m                     \u001b[0mlogger\u001b[0m\u001b[0;34m.\u001b[0m\u001b[0mwarning\u001b[0m\u001b[0;34m(\u001b[0m\u001b[0mmessage\u001b[0m\u001b[0;34m)\u001b[0m\u001b[0;34m\u001b[0m\u001b[0m\n\u001b[0;32m--> 137\u001b[0;31m             \u001b[0;32mreturn\u001b[0m \u001b[0mwrapped\u001b[0m\u001b[0;34m(\u001b[0m\u001b[0;34m*\u001b[0m\u001b[0margs\u001b[0m\u001b[0;34m,\u001b[0m \u001b[0;34m**\u001b[0m\u001b[0mkwargs\u001b[0m\u001b[0;34m)\u001b[0m\u001b[0;34m\u001b[0m\u001b[0m\n\u001b[0m\u001b[1;32m    138\u001b[0m         \u001b[0;32mreturn\u001b[0m \u001b[0mpositional_wrapper\u001b[0m\u001b[0;34m\u001b[0m\u001b[0m\n\u001b[1;32m    139\u001b[0m \u001b[0;34m\u001b[0m\u001b[0m\n",
      "\u001b[0;32m/Users/isabelangelo/Library/Enthought/Canopy_64bit/User/lib/python2.7/site-packages/googleapiclient/http.pyc\u001b[0m in \u001b[0;36mexecute\u001b[0;34m(self, http, num_retries)\u001b[0m\n\u001b[1;32m    836\u001b[0m       \u001b[0mcallback\u001b[0m\u001b[0;34m(\u001b[0m\u001b[0mresp\u001b[0m\u001b[0;34m)\u001b[0m\u001b[0;34m\u001b[0m\u001b[0m\n\u001b[1;32m    837\u001b[0m     \u001b[0;32mif\u001b[0m \u001b[0mresp\u001b[0m\u001b[0;34m.\u001b[0m\u001b[0mstatus\u001b[0m \u001b[0;34m>=\u001b[0m \u001b[0;36m300\u001b[0m\u001b[0;34m:\u001b[0m\u001b[0;34m\u001b[0m\u001b[0m\n\u001b[0;32m--> 838\u001b[0;31m       \u001b[0;32mraise\u001b[0m \u001b[0mHttpError\u001b[0m\u001b[0;34m(\u001b[0m\u001b[0mresp\u001b[0m\u001b[0;34m,\u001b[0m \u001b[0mcontent\u001b[0m\u001b[0;34m,\u001b[0m \u001b[0muri\u001b[0m\u001b[0;34m=\u001b[0m\u001b[0mself\u001b[0m\u001b[0;34m.\u001b[0m\u001b[0muri\u001b[0m\u001b[0;34m)\u001b[0m\u001b[0;34m\u001b[0m\u001b[0m\n\u001b[0m\u001b[1;32m    839\u001b[0m     \u001b[0;32mreturn\u001b[0m \u001b[0mself\u001b[0m\u001b[0;34m.\u001b[0m\u001b[0mpostproc\u001b[0m\u001b[0;34m(\u001b[0m\u001b[0mresp\u001b[0m\u001b[0;34m,\u001b[0m \u001b[0mcontent\u001b[0m\u001b[0;34m)\u001b[0m\u001b[0;34m\u001b[0m\u001b[0m\n\u001b[1;32m    840\u001b[0m \u001b[0;34m\u001b[0m\u001b[0m\n",
      "\u001b[0;31mHttpError\u001b[0m: <HttpError 400 when requesting https://www.googleapis.com/calendar/v3/calendars/berkeley.edu_1t3v9q2m429n4uho4ppib9qio4%40group.calendar.google.com/events?alt=json returned \"The specified time range is empty.\">"
     ]
    }
   ],
   "source": [
    "for i in range(len(start_times[45:])):\n",
    "    print 45 + i\n",
    "    add_event(start_times[i])"
   ]
  },
  {
   "cell_type": "code",
   "execution_count": 107,
   "metadata": {
    "collapsed": false
   },
   "outputs": [
    {
     "name": "stdout",
     "output_type": "stream",
     "text": [
      "23\n",
      "Event created #: %s\n",
      "begin:  2016-11-04T04:00:00\n",
      "end:    2016-11-04T08:00:00\n",
      "24\n",
      "Event created #: %s\n",
      "begin:  2016-11-05T08:00:00\n",
      "end:    2016-11-05T12:00:00\n",
      "25\n",
      "Event created #: %s\n",
      "begin:  2016-11-06T17:00:00\n",
      "end:    2016-11-06T21:00:00\n",
      "26\n",
      "Event created #: %s\n",
      "begin:  2016-11-08T00:30:00\n",
      "end:    2016-11-08T04:30:00\n",
      "27\n",
      "Event created #: %s\n",
      "begin:  2016-11-09T08:00:00\n",
      "end:    2016-11-09T12:00:00\n",
      "28\n",
      "Event created #: %s\n",
      "begin:  2016-11-10T12:00:00\n",
      "end:    2016-11-10T16:00:00\n",
      "29\n",
      "Event created #: %s\n",
      "begin:  2016-11-11T10:00:00\n",
      "end:    2016-11-11T14:00:00\n",
      "30\n",
      "Event created #: %s\n",
      "begin:  2016-11-12T09:00:00\n",
      "end:    2016-11-12T13:00:00\n",
      "31\n",
      "Event created #: %s\n",
      "begin:  2016-11-14T15:30:00\n",
      "end:    2016-11-14T19:30:00\n",
      "32\n",
      "Event created #: %s\n",
      "begin:  2016-11-16T17:00:00\n",
      "end:    2016-11-16T21:00:00\n",
      "33\n",
      "Event created #: %s\n",
      "begin:  2016-11-18T03:30:00\n",
      "end:    2016-11-18T07:30:00\n",
      "34\n",
      "Event created #: %s\n",
      "begin:  2016-11-19T07:30:00\n",
      "end:    2016-11-19T11:30:00\n",
      "35\n",
      "Event created #: %s\n",
      "begin:  2016-11-20T14:00:00\n",
      "end:    2016-11-20T18:00:00\n",
      "36\n",
      "Event created #: %s\n",
      "begin:  2016-12-08T05:00:00\n",
      "end:    2016-12-08T09:00:00\n",
      "37\n",
      "Event created #: %s\n",
      "begin:  2016-12-09T08:00:00\n",
      "end:    2016-12-09T12:00:00\n",
      "38\n",
      "Event created #: %s\n",
      "begin:  2016-12-10T05:30:00\n",
      "end:    2016-12-10T09:30:00\n"
     ]
    }
   ],
   "source": [
    "for i in range(len(start_times[67:])):\n",
    "    print 23 + i\n",
    "    add_event(start_times[i])"
   ]
  },
  {
   "cell_type": "code",
   "execution_count": 98,
   "metadata": {
    "collapsed": true
   },
   "outputs": [],
   "source": [
    "#doesn't work on event number 22 and event 45"
   ]
  },
  {
   "cell_type": "code",
   "execution_count": 110,
   "metadata": {
    "collapsed": false
   },
   "outputs": [],
   "source": [
    "#22, 67, 45"
   ]
  },
  {
   "cell_type": "code",
   "execution_count": 111,
   "metadata": {
    "collapsed": false
   },
   "outputs": [
    {
     "data": {
      "text/plain": [
       "'Dec 31 23:00 UTC\\n'"
      ]
     },
     "execution_count": 111,
     "metadata": {},
     "output_type": "execute_result"
    }
   ],
   "source": [
    "start_times[22]"
   ]
  },
  {
   "cell_type": "code",
   "execution_count": 112,
   "metadata": {
    "collapsed": false
   },
   "outputs": [
    {
     "data": {
      "text/plain": [
       "'Mar 09 21:00 UTC\\n'"
      ]
     },
     "execution_count": 112,
     "metadata": {},
     "output_type": "execute_result"
    }
   ],
   "source": [
    "start_times[67]"
   ]
  },
  {
   "cell_type": "code",
   "execution_count": 113,
   "metadata": {
    "collapsed": false
   },
   "outputs": [
    {
     "data": {
      "text/plain": [
       "'Feb 03 23:00 UTC\\n'"
      ]
     },
     "execution_count": 113,
     "metadata": {},
     "output_type": "execute_result"
    }
   ],
   "source": [
    "start_times[45]"
   ]
  },
  {
   "cell_type": "code",
   "execution_count": null,
   "metadata": {
    "collapsed": true
   },
   "outputs": [],
   "source": []
  }
 ],
 "metadata": {
  "kernelspec": {
   "display_name": "Python 2",
   "language": "python",
   "name": "python2"
  },
  "language_info": {
   "codemirror_mode": {
    "name": "ipython",
    "version": 2
   },
   "file_extension": ".py",
   "mimetype": "text/x-python",
   "name": "python",
   "nbconvert_exporter": "python",
   "pygments_lexer": "ipython2",
   "version": "2.7.12"
  }
 },
 "nbformat": 4,
 "nbformat_minor": 0
}
