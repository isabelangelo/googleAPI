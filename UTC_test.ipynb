{
 "cells": [
  {
   "cell_type": "code",
   "execution_count": 17,
   "metadata": {
    "collapsed": true
   },
   "outputs": [],
   "source": [
    "run quickstart.py"
   ]
  },
  {
   "cell_type": "code",
   "execution_count": 18,
   "metadata": {
    "collapsed": false
   },
   "outputs": [],
   "source": [
    "from gbt_scraper import *\n",
    "import time\n",
    "import copy"
   ]
  },
  {
   "cell_type": "code",
   "execution_count": 19,
   "metadata": {
    "collapsed": false
   },
   "outputs": [
    {
     "name": "stdout",
     "output_type": "stream",
     "text": [
      "isabelangelo@berkeley.edu\n",
      "BL_Obs\n",
      "it worked\n"
     ]
    }
   ],
   "source": [
    "#get credentials and calendar list from Google Calendar\n",
    "credentials = get_credentials()\n",
    "http = credentials.authorize(httplib2.Http())\n",
    "service = discovery.build('calendar', 'v3', http=http)\n",
    "page_token = None\n",
    "BL_CAL = 'BL_Obs'  #Choose to update calendar with this name\n",
    "while True:\n",
    "  calendar_list = service.calendarList().list(pageToken=page_token).execute()\n",
    "  for calendar_list_entry in calendar_list['items']: #hti\n",
    "    print calendar_list_entry['summary'] #hti\n",
    "    if calendar_list_entry['summary'] == BL_CAL:\n",
    "      cal = calendar_list_entry# ['items']\n",
    "      print 'it worked'\n",
    "      break\n",
    "  page_token = calendar_list.get('nextPageToken')\n",
    "  if not page_token:\n",
    "    break"
   ]
  },
  {
   "cell_type": "code",
   "execution_count": 24,
   "metadata": {
    "collapsed": false
   },
   "outputs": [],
   "source": [
    "#scrape and store schedule from GBT website\n",
    "scraper = GBTScraper(date=time.strftime(\"%m/%d/%Y\"), days = 30) #store for next 30 days\n",
    "scraper.make(t = 'utc')\n",
    "events = scraper.btlpSchedule\n",
    "#print events"
   ]
  },
  {
   "cell_type": "code",
   "execution_count": 50,
   "metadata": {
    "collapsed": false
   },
   "outputs": [],
   "source": [
    "def get_events(existing_events = []):\n",
    "#\tget list of existing events on google calendar\n",
    "#\teventlist: list stores information about each event on calendar\n",
    "#\treturns: list containing start times of events on calendar\n",
    "#    now = datetime.datetime.utcnow().isoformat() + 'Z' # 'Z' indicates UTC time\n",
    "    now = datetime.datetime.utcnow() # 'Z' indicates UTC time\n",
    "    then= datetime.datetime.utcnow()-datetime.timedelta(7)\n",
    "    #^^^assumes pulling from calendar in UTC^^^\n",
    "    #maybe we can just subtract so that it starts from somewhere that\n",
    "    #is always in the past?\n",
    "    #should be fine if we account for existing events later\n",
    "    t = then.isoformat() + 'Z'\n",
    "    eventsResult = service.events().list(\n",
    "        calendarId=cal['id'], timeMin=t, maxResults=100, singleEvents=True,\n",
    "        orderBy='startTime', timeZone = 'Etc/UTC').execute()\n",
    "    #or maybe do this in UTC time? this makes more sense\n",
    "    events = eventsResult.get('items', [])\n",
    "\n",
    "    if not events:\n",
    "        print('No upcoming events found.')\n",
    "    for event in events:\n",
    "        #print event['summary']\n",
    "        start = event['start'].get('dateTime', event['start'].get('date'))\n",
    "        print start\n",
    "        existing_events.append(start)"
   ]
  },
  {
   "cell_type": "code",
   "execution_count": 51,
   "metadata": {
    "collapsed": false
   },
   "outputs": [
    {
     "name": "stdout",
     "output_type": "stream",
     "text": [
      "2016-10-20T06:30:00Z\n",
      "2016-10-21T04:30:00Z\n",
      "2016-10-22T00:15:00Z\n",
      "2016-10-22T18:15:00Z\n",
      "2016-10-23T15:15:00Z\n",
      "2016-10-23T18:30:00Z\n",
      "2016-10-24T15:15:00Z\n",
      "2016-10-24T17:00:00Z\n",
      "2016-10-25T17:00:00Z\n",
      "2016-10-26T19:00:00Z\n",
      "2016-10-28T17:45:00Z\n",
      "2016-10-28T20:45:00Z\n",
      "2016-11-04\n",
      "2016-11-04T04:00:00Z\n"
     ]
    }
   ],
   "source": [
    "existing_events = []\n",
    "get_events(existing_events)"
   ]
  },
  {
   "cell_type": "code",
   "execution_count": null,
   "metadata": {
    "collapsed": false
   },
   "outputs": [],
   "source": []
  },
  {
   "cell_type": "code",
   "execution_count": null,
   "metadata": {
    "collapsed": true
   },
   "outputs": [],
   "source": []
  }
 ],
 "metadata": {
  "kernelspec": {
   "display_name": "Python 2",
   "language": "python",
   "name": "python2"
  },
  "language_info": {
   "codemirror_mode": {
    "name": "ipython",
    "version": 2
   },
   "file_extension": ".py",
   "mimetype": "text/x-python",
   "name": "python",
   "nbconvert_exporter": "python",
   "pygments_lexer": "ipython2",
   "version": "2.7.12"
  }
 },
 "nbformat": 4,
 "nbformat_minor": 0
}
